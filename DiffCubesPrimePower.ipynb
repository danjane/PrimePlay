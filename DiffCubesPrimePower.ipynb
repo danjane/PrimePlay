{
 "cells": [
  {
   "cell_type": "code",
   "execution_count": 1,
   "metadata": {
    "collapsed": true
   },
   "outputs": [],
   "source": [
    "import numpy as np\n",
    "import numpy.matlib\n",
    "import pyprimesieve\n",
    "\n",
    "n = 200\n",
    "\n",
    "\n"
   ]
  },
  {
   "cell_type": "code",
   "execution_count": 8,
   "metadata": {},
   "outputs": [],
   "source": [
    "xs = numpy.matlib.repmat(range(1, n), n-1, 1)\n",
    "ys = xs.T\n",
    "\n",
    "diffs = xs**3 - ys**3\n",
    "\n",
    "# flatten everything for easy list comprehension\n",
    "xs = xs.flatten()\n",
    "ys = ys.flatten()\n",
    "diffs = diffs.flatten()\n",
    "\n",
    "def primePower(n):\n",
    "    factors = pyprimesieve.factorize(n)\n",
    "    if np.shape(factors)[0] == 1:\n",
    "        return tuple(factors[0])\n",
    "    else:\n",
    "        return 0, 0\n",
    "\n",
    "\n",
    "ps, ns = zip(*[primePower(n) for n in diffs])\n",
    "solutions = [(x, y, p, n) for (x, y, p, n) in zip(xs, ys, ps, ns) if p > 0]\n",
    "solutions\n",
    "\n",
    "xs, ys, ps, ns = zip(*solutions)"
   ]
  },
  {
   "cell_type": "code",
   "execution_count": 5,
   "metadata": {},
   "outputs": [
    {
     "data": {
      "text/plain": [
       "array([1, 2, 4, 5, 7])"
      ]
     },
     "execution_count": 5,
     "metadata": {},
     "output_type": "execute_result"
    }
   ],
   "source": [
    "np.unique(ns)"
   ]
  },
  {
   "cell_type": "code",
   "execution_count": 7,
   "metadata": {},
   "outputs": [
    {
     "data": {
      "text/plain": [
       "[(8, 7, 13, 2), (105, 104, 181, 2)]"
      ]
     },
     "execution_count": 7,
     "metadata": {},
     "output_type": "execute_result"
    }
   ],
   "source": [
    "[solution for solution in solutions if solution[3] == 2]"
   ]
  },
  {
   "cell_type": "code",
   "execution_count": 17,
   "metadata": {},
   "outputs": [
    {
     "data": {
      "text/plain": [
       "array([0, 1, 2])"
      ]
     },
     "execution_count": 17,
     "metadata": {},
     "output_type": "execute_result"
    }
   ],
   "source": [
    "n = 200000\n",
    "\n",
    "xs = range(1, n)\n",
    "\n",
    "ps = [3*x**2 + 3*x + 1 for x in xs]\n",
    "ps, ns = zip(*[primePower(p) for p in ps])\n",
    "\n",
    "solutions = [(x, p, n) for (x, p, n) in zip(xs, ps, ns) if p > 0]\n",
    "np.unique(ns)"
   ]
  },
  {
   "cell_type": "code",
   "execution_count": null,
   "metadata": {},
   "outputs": [],
   "source": []
  }
 ],
 "metadata": {
  "kernelspec": {
   "display_name": "Python 2",
   "language": "python",
   "name": "python2"
  },
  "language_info": {
   "codemirror_mode": {
    "name": "ipython",
    "version": 2
   },
   "file_extension": ".py",
   "mimetype": "text/x-python",
   "name": "python",
   "nbconvert_exporter": "python",
   "pygments_lexer": "ipython2",
   "version": "2.7.6"
  }
 },
 "nbformat": 4,
 "nbformat_minor": 0
}
