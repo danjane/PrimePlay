{
 "cells": [
  {
   "cell_type": "code",
   "execution_count": 1,
   "metadata": {
    "collapsed": true
   },
   "outputs": [
    {
     "data": {
      "text/plain": [
       "'10000000000000000000000000000000000001000000000000000000000000000000000010000000000000000000000000000000010000000000000000000000000000001000000000000000000000000000010000000000000000000000000010000000000000000000000001000000000000000000000010000000000000000000010000000000000000001000000000000000010000000000000010000000000001000000000010000000010000001000010010'"
      ]
     },
     "execution_count": 1,
     "metadata": {},
     "output_type": "execute_result"
    }
   ],
   "source": [
    "squares = 0 # empty\n",
    "for i in range(1, 20):\n",
    "    squares |= 1 << i**2\n",
    "format(squares, 'b')"
   ]
  },
  {
   "cell_type": "code",
   "execution_count": 3,
   "metadata": {},
   "outputs": [
    {
     "name": "stdout",
     "output_type": "stream",
     "text": [
      "[1, 4, 9, 16, 25, 36, 49, 64, 81, 100, 121, 144, 169, 196, 225, 256, 289, 324, 361]\n"
     ]
    }
   ],
   "source": [
    "import re\n",
    "\n",
    "def get_ones(x):\n",
    "    return [m.start() for m in re.finditer('1', bin(x)[::-1])]\n",
    "print(get_ones(squares),)"
   ]
  },
  {
   "cell_type": "code",
   "execution_count": 4,
   "metadata": {},
   "outputs": [
    {
     "name": "stdout",
     "output_type": "stream",
     "text": [
      "[2, 5, 8, 10, 13, 17, 18, 20, 25, 26, 29, 32, 34, 37, 40, 41, 45, 50, 52, 53, 58, 61, 65, 68, 72, 73, 74, 80, 82, 85, 89, 90, 97, 98, 100, 101, 104, 106, 109, 113, 116, 117, 122, 125, 128, 130, 136, 137, 145, 146, 148, 149, 153, 157, 160, 162, 164, 169, 170, 173, 178, 180, 181, 185, 193, 194, 197, 200, 202, 205, 208, 212, 218, 221, 225, 226, 229, 232, 233, 234, 241, 242, 244, 245, 250, 257, 260, 261, 265, 269, 272, 274, 277, 281, 288, 289, 290, 292, 293, 296, 298, 305, 306, 313, 314, 317, 320, 325, 328, 333, 337, 338, 340, 346, 349, 353, 356, 360, 362, 365, 369, 370, 373, 377, 386, 388, 389, 392, 394, 397, 400, 405, 410, 421, 424, 425, 433, 442, 445, 450, 452, 458, 461, 468, 481, 482, 485, 493, 505, 512, 514, 520, 530, 545, 549, 557, 578, 580, 586, 613, 617, 648, 650, 685, 722]\n"
     ]
    }
   ],
   "source": [
    "# Numbers which can be expressed as the sum of two squares\n",
    "\n",
    "sum_2_squares = squares << 1\n",
    "for i in get_ones(squares)[1:]:\n",
    "    sum_2_squares |= squares << i    \n",
    "print(get_ones(sum_2_squares),)"
   ]
  },
  {
   "cell_type": "code",
   "execution_count": 49,
   "metadata": {},
   "outputs": [
    {
     "data": {
      "text/plain": [
       "[25, 100, 169, 225, 289]"
      ]
     },
     "execution_count": 49,
     "metadata": {},
     "output_type": "execute_result"
    }
   ],
   "source": [
    "pythag_z = x & sum_2_squares\n",
    "get_ones(pythag_z)"
   ]
  },
  {
   "cell_type": "code",
   "execution_count": 5,
   "metadata": {},
   "outputs": [
    {
     "name": "stdout",
     "output_type": "stream",
     "text": [
      "[169, 225, 289]\n"
     ]
    }
   ],
   "source": [
    "# iterate, to calculate numbers which are expressible as 1,2,3,4,5 and 6 squares\n",
    "\n",
    "nSums = 6\n",
    "\n",
    "sum_squares = []\n",
    "sum_squares.append(squares)\n",
    "\n",
    "\n",
    "def add_squares(x):\n",
    "    x_ones = get_ones(x)\n",
    "    sums = squares << x_ones.pop()\n",
    "    for i in x_ones:\n",
    "        sums |= squares << i\n",
    "    return sums\n",
    "\n",
    "all_sums = squares\n",
    "for i in range(nSums-1):\n",
    "    sum_squares.append(add_squares(sum_squares[-1]))\n",
    "    all_sums &= sum_squares[-1]\n",
    "    \n",
    "print(get_ones(all_sums),)"
   ]
  },
  {
   "cell_type": "code",
   "execution_count": 183,
   "metadata": {
    "collapsed": true
   },
   "outputs": [
    {
     "data": {
      "text/plain": [
       "1424"
      ]
     },
     "execution_count": 183,
     "metadata": {},
     "output_type": "execute_result"
    }
   ],
   "source": [
    "sum_squares.__sizeof__()"
   ]
  },
  {
   "cell_type": "code",
   "execution_count": 6,
   "metadata": {},
   "outputs": [],
   "source": [
    "def decompose(list_of_squares, x, temp_sum_squares=sum_squares[:-1]):\n",
    "    if temp_sum_squares:\n",
    "        top_sums = temp_sum_squares.pop()\n",
    "        for i in get_ones(squares):\n",
    "            if (top_sums >> (x-i)) & 1:\n",
    "                list_of_squares.append(i)\n",
    "                return decompose(list_of_squares, x-i, temp_sum_squares)\n",
    "    else:\n",
    "        list_of_squares.append(x)\n",
    "        return list_of_squares\n",
    "        "
   ]
  },
  {
   "cell_type": "code",
   "execution_count": 8,
   "metadata": {},
   "outputs": [
    {
     "name": "stdout",
     "output_type": "stream",
     "text": [
      "[169]\n[25, 144]\n[9, 16, 144]\n[1, 4, 64, 100]\n[1, 4, 4, 16, 144]\n[1, 1, 1, 4, 81, 81]\n"
     ]
    }
   ],
   "source": [
    "for i in range(6, 0, -1):\n",
    "    print(decompose([], 169, sum_squares[:-i]))"
   ]
  },
  {
   "cell_type": "code",
   "execution_count": 190,
   "metadata": {},
   "outputs": [],
   "source": [
    "i = 1\n",
    "while sum_squares[i] >> 169 & 1:\n",
    "    i += 1"
   ]
  },
  {
   "cell_type": "code",
   "execution_count": 191,
   "metadata": {},
   "outputs": [
    {
     "data": {
      "text/plain": [
       "155"
      ]
     },
     "execution_count": 191,
     "metadata": {},
     "output_type": "execute_result"
    }
   ],
   "source": [
    "i"
   ]
  },
  {
   "cell_type": "code",
   "execution_count": 200,
   "metadata": {},
   "outputs": [
    {
     "data": {
      "text/plain": [
       "[1, 1, 9, 1089, 2025]"
      ]
     },
     "execution_count": 200,
     "metadata": {},
     "output_type": "execute_result"
    }
   ],
   "source": [
    "decompose([], 5**5, sum_squares[:-2])"
   ]
  },
  {
   "cell_type": "code",
   "execution_count": null,
   "metadata": {},
   "outputs": [],
   "source": []
  }
 ],
 "metadata": {
  "kernelspec": {
   "display_name": "Python 2",
   "language": "python",
   "name": "python2"
  },
  "language_info": {
   "codemirror_mode": {
    "name": "ipython",
    "version": 2
   },
   "file_extension": ".py",
   "mimetype": "text/x-python",
   "name": "python",
   "nbconvert_exporter": "python",
   "pygments_lexer": "ipython2",
   "version": "2.7.6"
  }
 },
 "nbformat": 4,
 "nbformat_minor": 0
}
